{
 "cells": [
  {
   "cell_type": "code",
   "execution_count": 1,
   "id": "6498cb14-88ff-4238-8e3e-74ae1057e9d9",
   "metadata": {},
   "outputs": [],
   "source": [
    "from pyspark import SparkConf\n",
    "from pyspark.sql import SparkSession\n",
    "from pyspark.sql.types import *\n",
    "from pyspark.sql import functions as f"
   ]
  },
  {
   "cell_type": "code",
   "execution_count": 2,
   "id": "fcd37e92-b759-4a82-b572-df4a0731e000",
   "metadata": {},
   "outputs": [
    {
     "name": "stdout",
     "output_type": "stream",
     "text": [
      "Safe mode is OFF\n"
     ]
    }
   ],
   "source": [
    "!hdfs dfsadmin -safemode leave"
   ]
  },
  {
   "cell_type": "code",
   "execution_count": 3,
   "id": "d72d0da7-4bec-40ae-978e-751b6fa7cd3d",
   "metadata": {},
   "outputs": [
    {
     "name": "stdout",
     "output_type": "stream",
     "text": [
      "Deleted /ml-latest-small\n"
     ]
    }
   ],
   "source": [
    "!hdfs dfs -rm -r /ml-latest-small\n",
    "!hdfs dfs -put ml-latest-small /"
   ]
  },
  {
   "cell_type": "markdown",
   "id": "919ae8bf-3097-429e-8a51-ac2f1c851a34",
   "metadata": {
    "jp-MarkdownHeadingCollapsed": true
   },
   "source": [
    "## 1. Spark Application\n"
   ]
  },
  {
   "cell_type": "markdown",
   "id": "9ab02a5b-0042-4c99-9b55-3faa07d938dc",
   "metadata": {},
   "source": [
    "Два Executor"
   ]
  },
  {
   "cell_type": "code",
   "execution_count": 6,
   "id": "2fb0e600-db58-4bc8-a0b6-b646ad7a62ca",
   "metadata": {},
   "outputs": [
    {
     "data": {
      "text/html": [
       "\n",
       "            <div>\n",
       "                <p><b>SparkSession - in-memory</b></p>\n",
       "                \n",
       "        <div>\n",
       "            <p><b>SparkContext</b></p>\n",
       "\n",
       "            <p><a href=\"http://743f2503319b:4040\">Spark UI</a></p>\n",
       "\n",
       "            <dl>\n",
       "              <dt>Version</dt>\n",
       "                <dd><code>v3.5.0</code></dd>\n",
       "              <dt>Master</dt>\n",
       "                <dd><code>local[*]</code></dd>\n",
       "              <dt>AppName</dt>\n",
       "                <dd><code>sibagatulin_spark</code></dd>\n",
       "            </dl>\n",
       "        </div>\n",
       "        \n",
       "            </div>\n",
       "        "
      ],
      "text/plain": [
       "<pyspark.sql.session.SparkSession at 0x7fb2c83e7cd0>"
      ]
     },
     "execution_count": 6,
     "metadata": {},
     "output_type": "execute_result"
    }
   ],
   "source": [
    "conf = (\n",
    "    SparkConf()\n",
    "    .set(\"spark.executor.instances\", \"1\")\n",
    "    .set(\"spark.executor.cores\", \"10\")\n",
    "    .set(\"spark.executor.memory\", \"1g\")\n",
    ")\n",
    "spark = (\n",
    "    SparkSession\n",
    "    .builder\n",
    "    .master(master=\"local\")\n",
    "    .config(conf=conf)\n",
    "    .appName(\"sibagatulin_spark\")\n",
    "    .getOrCreate()\n",
    ")\n",
    "spark"
   ]
  },
  {
   "cell_type": "code",
   "execution_count": 5,
   "id": "c211048e-167f-45dc-99ad-776444fb06f7",
   "metadata": {},
   "outputs": [],
   "source": [
    "spark.stop()\n",
    "del spark, conf"
   ]
  },
  {
   "cell_type": "markdown",
   "id": "a465526b-3f66-4961-bb60-9b8cf26ca67a",
   "metadata": {},
   "source": [
    "YARN application:\n",
    "\n",
    "<img src=\"img/task_1 spark app in yarn.png\" alt=\"image\" width=\"700\" height=\"auto\">\n",
    "\n",
    "Spark UI:\n",
    "\n",
    "<img src=\"img/task_1 spark ui.png\" alt=\"image\" width=\"700\" height=\"auto\">"
   ]
  },
  {
   "cell_type": "code",
   "execution_count": 38,
   "id": "ee8598a2-4261-4d62-8873-58c6fbbf159f",
   "metadata": {},
   "outputs": [
    {
     "name": "stdout",
     "output_type": "stream",
     "text": [
      "+------+-------+---------------+----------+\n",
      "|userId|movieId|            tag| timestamp|\n",
      "+------+-------+---------------+----------+\n",
      "|     2|  60756|          funny|1445714994|\n",
      "|     2|  60756|Highly quotable|1445714996|\n",
      "|     2|  60756|   will ferrell|1445714992|\n",
      "|     2|  89774|   Boxing story|1445715207|\n",
      "|     2|  89774|            MMA|1445715200|\n",
      "+------+-------+---------------+----------+\n",
      "only showing top 5 rows\n",
      "\n"
     ]
    }
   ],
   "source": [
    "tags_schema = StructType(fields=[\n",
    "    StructField(\"userId\", IntegerType()),\n",
    "    StructField(\"movieId\", IntegerType()),\n",
    "    StructField(\"tag\", StringType()),\n",
    "    StructField(\"timestamp\", LongType()),\n",
    "])\n",
    "\n",
    "tags_df = (\n",
    "    spark\n",
    "    .read\n",
    "    .format(\"csv\")\n",
    "    .option(\"header\", \"True\")\n",
    "    .schema(tags_schema)\n",
    "    .load(\"/ml-latest-small/tags.csv\")\n",
    ")\n",
    "tags_df.show(5)"
   ]
  },
  {
   "cell_type": "code",
   "execution_count": 39,
   "id": "1771391f-7090-48ff-8c9e-fb33fe7e679e",
   "metadata": {},
   "outputs": [
    {
     "name": "stdout",
     "output_type": "stream",
     "text": [
      "+------+-------+------+---------+\n",
      "|userId|movieId|rating|timestamp|\n",
      "+------+-------+------+---------+\n",
      "|     1|      1|   4.0|964982703|\n",
      "|     1|      3|   4.0|964981247|\n",
      "|     1|      6|   4.0|964982224|\n",
      "|     1|     47|   5.0|964983815|\n",
      "|     1|     50|   5.0|964982931|\n",
      "+------+-------+------+---------+\n",
      "only showing top 5 rows\n",
      "\n"
     ]
    }
   ],
   "source": [
    "ratings_schema = StructType(fields=[\n",
    "    StructField(\"userId\", IntegerType()),\n",
    "    StructField(\"movieId\", IntegerType()),\n",
    "    StructField(\"rating\", DoubleType()),\n",
    "    StructField(\"timestamp\", LongType()),\n",
    "])\n",
    "\n",
    "ratings_df = (\n",
    "    spark\n",
    "    .read\n",
    "    .format(\"csv\")\n",
    "    .option(\"header\", \"True\")\n",
    "    .schema(ratings_schema)\n",
    "    .load(\"/ml-latest-small/ratings.csv\")\n",
    ")\n",
    "\n",
    "ratings_df.show(5)"
   ]
  },
  {
   "cell_type": "code",
   "execution_count": 17,
   "id": "00c3bdaf-fba3-471e-a16d-c6c7a330f03f",
   "metadata": {},
   "outputs": [
    {
     "name": "stdout",
     "output_type": "stream",
     "text": [
      "+-------------+\n",
      "|count(userId)|\n",
      "+-------------+\n",
      "|         3683|\n",
      "+-------------+\n",
      "\n"
     ]
    }
   ],
   "source": [
    "tags_df.select(f.count(\"userId\")).show()"
   ]
  },
  {
   "cell_type": "code",
   "execution_count": 82,
   "id": "68313fc5-06ac-483c-80e7-ee22844cb6e7",
   "metadata": {},
   "outputs": [
    {
     "data": {
      "text/plain": [
       "3683"
      ]
     },
     "execution_count": 82,
     "metadata": {},
     "output_type": "execute_result"
    }
   ],
   "source": [
    "tags_df.count()"
   ]
  },
  {
   "cell_type": "code",
   "execution_count": 40,
   "id": "289b63a3-ee6d-4d1e-87b6-8f8084e6ebcf",
   "metadata": {},
   "outputs": [
    {
     "name": "stdout",
     "output_type": "stream",
     "text": [
      "+-------------+\n",
      "|count(userId)|\n",
      "+-------------+\n",
      "|       100836|\n",
      "+-------------+\n",
      "\n"
     ]
    }
   ],
   "source": [
    "ratings_df.select(f.count(\"userId\")).show()"
   ]
  },
  {
   "cell_type": "code",
   "execution_count": 83,
   "id": "5b5c3ceb-7da6-485a-be3c-d0b1277577fc",
   "metadata": {},
   "outputs": [
    {
     "data": {
      "text/plain": [
       "100836"
      ]
     },
     "execution_count": 83,
     "metadata": {},
     "output_type": "execute_result"
    }
   ],
   "source": [
    "ratings_df.count()"
   ]
  },
  {
   "cell_type": "markdown",
   "id": "011bc720-8a67-4758-8b57-d0433d71e252",
   "metadata": {},
   "source": [
    "<img src=\"img/task_1 job_1.png\" alt=\"image\" width=\"300\" height=\"auto\"> <img src=\"img/task_1 job_2.png\" alt=\"image\" width=\"300\" height=\"auto\">\n",
    "\n",
    "Выполонено 1 стейдж и 1 таска"
   ]
  },
  {
   "cell_type": "markdown",
   "id": "a203854d-9788-4f0a-af2b-9b102593128b",
   "metadata": {
    "jp-MarkdownHeadingCollapsed": true
   },
   "source": [
    "## 2. Работа с данными"
   ]
  },
  {
   "cell_type": "markdown",
   "id": "271091bb-ecd1-4d6d-a7dc-321aea7f9532",
   "metadata": {},
   "source": [
    "- Посчитать количество уникальных фильмов и уникальных юзеров в таблице “ratings”."
   ]
  },
  {
   "cell_type": "code",
   "execution_count": 36,
   "id": "25a61158-0f13-4c26-8dc2-b22bbcfb11d5",
   "metadata": {},
   "outputs": [
    {
     "name": "stdout",
     "output_type": "stream",
     "text": [
      "+------+-----+\n",
      "|userId|count|\n",
      "+------+-----+\n",
      "|   148|   48|\n",
      "|   463|   33|\n",
      "|   471|   28|\n",
      "|   496|   29|\n",
      "|   243|   36|\n",
      "+------+-----+\n",
      "only showing top 5 rows\n",
      "\n"
     ]
    }
   ],
   "source": [
    "ratings_df.groupby(\"userId\").count().show(5)"
   ]
  },
  {
   "cell_type": "code",
   "execution_count": 37,
   "id": "f38ec604-64d6-479e-9f5a-af2a95847195",
   "metadata": {},
   "outputs": [
    {
     "name": "stdout",
     "output_type": "stream",
     "text": [
      "+-------+-----+\n",
      "|movieId|count|\n",
      "+-------+-----+\n",
      "|   1580|  165|\n",
      "|   2366|   25|\n",
      "|   3175|   75|\n",
      "|   1088|   42|\n",
      "|  32460|    4|\n",
      "+-------+-----+\n",
      "only showing top 5 rows\n",
      "\n"
     ]
    }
   ],
   "source": [
    "ratings_df.groupby(\"movieId\").count().show(5)"
   ]
  },
  {
   "cell_type": "markdown",
   "id": "75c43dfc-8719-4132-8f95-e9a8b0b6080f",
   "metadata": {},
   "source": [
    "- Посчитать, сколько было поставлено оценок >= 4.0"
   ]
  },
  {
   "cell_type": "code",
   "execution_count": 45,
   "id": "e4a88e74-600b-475f-8b26-80b428f99723",
   "metadata": {},
   "outputs": [
    {
     "name": "stderr",
     "output_type": "stream",
     "text": [
      "[Stage 54:>                                                         (0 + 1) / 1]\r"
     ]
    },
    {
     "name": "stdout",
     "output_type": "stream",
     "text": [
      "+-------------+\n",
      "|count(rating)|\n",
      "+-------------+\n",
      "|        48580|\n",
      "+-------------+\n",
      "\n"
     ]
    },
    {
     "name": "stderr",
     "output_type": "stream",
     "text": [
      "                                                                                \r"
     ]
    }
   ],
   "source": [
    "ratings_df.filter(ratings_df.rating >= 4).select(f.count(\"rating\")).show()"
   ]
  },
  {
   "cell_type": "markdown",
   "id": "d6828c4e-6af2-4256-984a-333a0a7793fa",
   "metadata": {},
   "source": [
    "- Вывести топ100 фильмов с самым высоким рейтингом"
   ]
  },
  {
   "cell_type": "code",
   "execution_count": 49,
   "id": "81d7b6b7-e661-4c52-8136-6927c7f81157",
   "metadata": {},
   "outputs": [
    {
     "name": "stdout",
     "output_type": "stream",
     "text": [
      "+-------+------+\n",
      "|movieId|rating|\n",
      "+-------+------+\n",
      "|   1573|   5.0|\n",
      "|   3147|   5.0|\n",
      "|   1732|   5.0|\n",
      "|   1617|   5.0|\n",
      "|   3053|   5.0|\n",
      "|   1625|   5.0|\n",
      "|     50|   5.0|\n",
      "|   1804|   5.0|\n",
      "|    151|   5.0|\n",
      "|   1927|   5.0|\n",
      "|    163|   5.0|\n",
      "|   1954|   5.0|\n",
      "|    231|   5.0|\n",
      "|   2005|   5.0|\n",
      "|    333|   5.0|\n",
      "|   2018|   5.0|\n",
      "|    457|   5.0|\n",
      "|   2033|   5.0|\n",
      "|    553|   5.0|\n",
      "|   2048|   5.0|\n",
      "|    608|   5.0|\n",
      "|   2058|   5.0|\n",
      "|    919|   5.0|\n",
      "|   2078|   5.0|\n",
      "|    940|   5.0|\n",
      "|   2090|   5.0|\n",
      "|   1023|   5.0|\n",
      "|   2094|   5.0|\n",
      "|   1025|   5.0|\n",
      "|   2115|   5.0|\n",
      "|   1031|   5.0|\n",
      "|   2116|   5.0|\n",
      "|   1049|   5.0|\n",
      "|   2137|   5.0|\n",
      "|   1080|   5.0|\n",
      "|   2139|   5.0|\n",
      "|   1092|   5.0|\n",
      "|   2141|   5.0|\n",
      "|   1136|   5.0|\n",
      "|   2161|   5.0|\n",
      "|   1197|   5.0|\n",
      "|   2291|   5.0|\n",
      "|   1206|   5.0|\n",
      "|   2329|   5.0|\n",
      "|   1213|   5.0|\n",
      "|   2353|   5.0|\n",
      "|   1222|   5.0|\n",
      "|   2387|   5.0|\n",
      "|   1226|   5.0|\n",
      "|   2395|   5.0|\n",
      "|   1256|   5.0|\n",
      "|   2427|   5.0|\n",
      "|   1275|   5.0|\n",
      "|   2459|   5.0|\n",
      "|   1282|   5.0|\n",
      "|   2470|   5.0|\n",
      "|   1298|   5.0|\n",
      "|   2502|   5.0|\n",
      "|   1587|   5.0|\n",
      "|   2529|   5.0|\n",
      "|    101|   5.0|\n",
      "|   2542|   5.0|\n",
      "|    216|   5.0|\n",
      "|   2571|   5.0|\n",
      "|    362|   5.0|\n",
      "|   2580|   5.0|\n",
      "|    596|   5.0|\n",
      "|   2596|   5.0|\n",
      "|    923|   5.0|\n",
      "|   2641|   5.0|\n",
      "|   1024|   5.0|\n",
      "|   2654|   5.0|\n",
      "|   1032|   5.0|\n",
      "|   2692|   5.0|\n",
      "|   1089|   5.0|\n",
      "|   2700|   5.0|\n",
      "|   1196|   5.0|\n",
      "|   2716|   5.0|\n",
      "|   1210|   5.0|\n",
      "|   2761|   5.0|\n",
      "|   1224|   5.0|\n",
      "|   2858|   5.0|\n",
      "|   1270|   5.0|\n",
      "|   2872|   5.0|\n",
      "|   1291|   5.0|\n",
      "|   2899|   5.0|\n",
      "|     47|   5.0|\n",
      "|   2944|   5.0|\n",
      "|    260|   5.0|\n",
      "|   2947|   5.0|\n",
      "|    661|   5.0|\n",
      "|   2948|   5.0|\n",
      "|   1029|   5.0|\n",
      "|   2949|   5.0|\n",
      "|   1097|   5.0|\n",
      "|   2959|   5.0|\n",
      "|   1220|   5.0|\n",
      "|   2987|   5.0|\n",
      "|   1278|   5.0|\n",
      "|   2991|   5.0|\n",
      "+-------+------+\n",
      "\n"
     ]
    }
   ],
   "source": [
    "(\n",
    "    ratings_df\n",
    "    .select(\"movieId\", \"rating\")\n",
    "    .orderBy(\"rating\", ascending=False)\n",
    "    .limit(100)\n",
    "    .show(100)\n",
    ")"
   ]
  },
  {
   "cell_type": "markdown",
   "id": "70c49b46-479f-448f-a87f-2311d2e36719",
   "metadata": {},
   "source": [
    "- Посчитать разницу во времени в секундах между временем тегирования пользователя данного фильма и временем, когда пользователь поставил оценку фильму. В качестве ответа выведете среднюю дельту по времени."
   ]
  },
  {
   "cell_type": "code",
   "execution_count": 55,
   "id": "35026964-8c7a-4b00-ae34-1cca9169f959",
   "metadata": {},
   "outputs": [
    {
     "name": "stdout",
     "output_type": "stream",
     "text": [
      "+------+-------+------+----------+---------------+----------+\n",
      "|userId|movieId|rating| timestamp|            tag| timestamp|\n",
      "+------+-------+------+----------+---------------+----------+\n",
      "|     2|  60756|   5.0|1445714980|   will ferrell|1445714992|\n",
      "|     2|  60756|   5.0|1445714980|Highly quotable|1445714996|\n",
      "|     2|  60756|   5.0|1445714980|          funny|1445714994|\n",
      "|     2|  89774|   5.0|1445715189|      Tom Hardy|1445715205|\n",
      "|     2|  89774|   5.0|1445715189|            MMA|1445715200|\n",
      "+------+-------+------+----------+---------------+----------+\n",
      "only showing top 5 rows\n",
      "\n"
     ]
    }
   ],
   "source": [
    "ratings_with_tags_df = ratings_df.alias(\"r\").join(tags_df.alias(\"t\"), on=[\"userId\", \"movieId\"], how=\"inner\")\n",
    "ratings_with_tags_df.show(5)"
   ]
  },
  {
   "cell_type": "code",
   "execution_count": 62,
   "id": "c91766f9-9310-4a98-a024-a525d0c419fa",
   "metadata": {},
   "outputs": [
    {
     "name": "stdout",
     "output_type": "stream",
     "text": [
      "+------+-------------------+\n",
      "|userId|         avg(delta)|\n",
      "+------+-------------------+\n",
      "|   513|               75.0|\n",
      "|   193|-107.41176470588235|\n",
      "|   300|              326.0|\n",
      "|    76|              -10.0|\n",
      "|   606| 2441534.8333333335|\n",
      "+------+-------------------+\n",
      "only showing top 5 rows\n",
      "\n"
     ]
    }
   ],
   "source": [
    "(\n",
    "    ratings_with_tags_df\n",
    "    .select(\"userId\", (f.col(\"t.timestamp\") - f.col(\"r.timestamp\")).alias(\"delta\"))\n",
    "    .groupby(\"userId\")\n",
    "    .avg(\"delta\")\n",
    "    .show(5)\n",
    ")"
   ]
  },
  {
   "cell_type": "markdown",
   "id": "82f1a326-98ac-4777-a2b0-58cf5b047942",
   "metadata": {},
   "source": [
    "- Посчитать среднюю оценку от каждого пользователя, в качестве ответа выведете среднее от всех усредненных оценок всех пользователей."
   ]
  },
  {
   "cell_type": "code",
   "execution_count": 73,
   "id": "cd9187c4-8ece-4b78-9a83-06475d98b8e8",
   "metadata": {},
   "outputs": [
    {
     "name": "stdout",
     "output_type": "stream",
     "text": [
      "+------------------+\n",
      "|  avg(avg(rating))|\n",
      "+------------------+\n",
      "|3.6572223377474016|\n",
      "+------------------+\n",
      "\n"
     ]
    }
   ],
   "source": [
    "(\n",
    "    ratings_df\n",
    "    .groupby(\"userId\")\n",
    "    .avg(\"rating\")\n",
    "    .select(f.avg(\"avg(rating)\"))\n",
    "    .show()\n",
    ")"
   ]
  },
  {
   "cell_type": "markdown",
   "id": "3185c327-5909-462a-a173-b41f218b6026",
   "metadata": {},
   "source": [
    "## 3. UDF"
   ]
  },
  {
   "cell_type": "code",
   "execution_count": 87,
   "id": "387fd115-f7c2-4d75-9fca-742969f1b687",
   "metadata": {},
   "outputs": [],
   "source": [
    "from sklearn.feature_extraction.text import TfidfVectorizer\n",
    "from sklearn.linear_model import SGDRegressor\n",
    "from sklearn.model_selection import train_test_split"
   ]
  },
  {
   "cell_type": "code",
   "execution_count": 107,
   "id": "40a087c2-bb40-4713-b2e5-5bf435b46a33",
   "metadata": {},
   "outputs": [
    {
     "name": "stdout",
     "output_type": "stream",
     "text": [
      "+---------------+------+\n",
      "|            tag|rating|\n",
      "+---------------+------+\n",
      "|   will ferrell|   5.0|\n",
      "|Highly quotable|   5.0|\n",
      "|          funny|   5.0|\n",
      "+---------------+------+\n",
      "only showing top 3 rows\n",
      "\n"
     ]
    }
   ],
   "source": [
    "data_df = ratings_with_tags_df.select(\"tag\", \"rating\")\n",
    "data_df.show(3)"
   ]
  },
  {
   "cell_type": "code",
   "execution_count": 108,
   "id": "5a41a97e-6200-4e86-9deb-fbca90a5847f",
   "metadata": {},
   "outputs": [
    {
     "data": {
      "text/html": [
       "<div>\n",
       "<style scoped>\n",
       "    .dataframe tbody tr th:only-of-type {\n",
       "        vertical-align: middle;\n",
       "    }\n",
       "\n",
       "    .dataframe tbody tr th {\n",
       "        vertical-align: top;\n",
       "    }\n",
       "\n",
       "    .dataframe thead th {\n",
       "        text-align: right;\n",
       "    }\n",
       "</style>\n",
       "<table border=\"1\" class=\"dataframe\">\n",
       "  <thead>\n",
       "    <tr style=\"text-align: right;\">\n",
       "      <th></th>\n",
       "      <th>tag</th>\n",
       "      <th>rating</th>\n",
       "    </tr>\n",
       "  </thead>\n",
       "  <tbody>\n",
       "    <tr>\n",
       "      <th>0</th>\n",
       "      <td>will ferrell</td>\n",
       "      <td>5.0</td>\n",
       "    </tr>\n",
       "    <tr>\n",
       "      <th>1</th>\n",
       "      <td>Highly quotable</td>\n",
       "      <td>5.0</td>\n",
       "    </tr>\n",
       "    <tr>\n",
       "      <th>2</th>\n",
       "      <td>funny</td>\n",
       "      <td>5.0</td>\n",
       "    </tr>\n",
       "  </tbody>\n",
       "</table>\n",
       "</div>"
      ],
      "text/plain": [
       "               tag  rating\n",
       "0     will ferrell     5.0\n",
       "1  Highly quotable     5.0\n",
       "2            funny     5.0"
      ]
     },
     "execution_count": 108,
     "metadata": {},
     "output_type": "execute_result"
    }
   ],
   "source": [
    "df = data_df.toPandas()\n",
    "df.head(3)"
   ]
  },
  {
   "cell_type": "code",
   "execution_count": 109,
   "id": "72bbe281-00f1-499f-9ad0-cd94c5f66139",
   "metadata": {},
   "outputs": [
    {
     "data": {
      "text/plain": [
       "(3476, 1708)"
      ]
     },
     "execution_count": 109,
     "metadata": {},
     "output_type": "execute_result"
    }
   ],
   "source": [
    "vectorizer = TfidfVectorizer()\n",
    "vectors = vectorizer.fit_transform(df[\"tag\"])\n",
    "vectors.shape"
   ]
  },
  {
   "cell_type": "code",
   "execution_count": 110,
   "id": "bde78e0d-4596-4d79-a2f2-67d75732b672",
   "metadata": {},
   "outputs": [
    {
     "data": {
      "text/html": [
       "<style>#sk-container-id-3 {color: black;}#sk-container-id-3 pre{padding: 0;}#sk-container-id-3 div.sk-toggleable {background-color: white;}#sk-container-id-3 label.sk-toggleable__label {cursor: pointer;display: block;width: 100%;margin-bottom: 0;padding: 0.3em;box-sizing: border-box;text-align: center;}#sk-container-id-3 label.sk-toggleable__label-arrow:before {content: \"▸\";float: left;margin-right: 0.25em;color: #696969;}#sk-container-id-3 label.sk-toggleable__label-arrow:hover:before {color: black;}#sk-container-id-3 div.sk-estimator:hover label.sk-toggleable__label-arrow:before {color: black;}#sk-container-id-3 div.sk-toggleable__content {max-height: 0;max-width: 0;overflow: hidden;text-align: left;background-color: #f0f8ff;}#sk-container-id-3 div.sk-toggleable__content pre {margin: 0.2em;color: black;border-radius: 0.25em;background-color: #f0f8ff;}#sk-container-id-3 input.sk-toggleable__control:checked~div.sk-toggleable__content {max-height: 200px;max-width: 100%;overflow: auto;}#sk-container-id-3 input.sk-toggleable__control:checked~label.sk-toggleable__label-arrow:before {content: \"▾\";}#sk-container-id-3 div.sk-estimator input.sk-toggleable__control:checked~label.sk-toggleable__label {background-color: #d4ebff;}#sk-container-id-3 div.sk-label input.sk-toggleable__control:checked~label.sk-toggleable__label {background-color: #d4ebff;}#sk-container-id-3 input.sk-hidden--visually {border: 0;clip: rect(1px 1px 1px 1px);clip: rect(1px, 1px, 1px, 1px);height: 1px;margin: -1px;overflow: hidden;padding: 0;position: absolute;width: 1px;}#sk-container-id-3 div.sk-estimator {font-family: monospace;background-color: #f0f8ff;border: 1px dotted black;border-radius: 0.25em;box-sizing: border-box;margin-bottom: 0.5em;}#sk-container-id-3 div.sk-estimator:hover {background-color: #d4ebff;}#sk-container-id-3 div.sk-parallel-item::after {content: \"\";width: 100%;border-bottom: 1px solid gray;flex-grow: 1;}#sk-container-id-3 div.sk-label:hover label.sk-toggleable__label {background-color: #d4ebff;}#sk-container-id-3 div.sk-serial::before {content: \"\";position: absolute;border-left: 1px solid gray;box-sizing: border-box;top: 0;bottom: 0;left: 50%;z-index: 0;}#sk-container-id-3 div.sk-serial {display: flex;flex-direction: column;align-items: center;background-color: white;padding-right: 0.2em;padding-left: 0.2em;position: relative;}#sk-container-id-3 div.sk-item {position: relative;z-index: 1;}#sk-container-id-3 div.sk-parallel {display: flex;align-items: stretch;justify-content: center;background-color: white;position: relative;}#sk-container-id-3 div.sk-item::before, #sk-container-id-3 div.sk-parallel-item::before {content: \"\";position: absolute;border-left: 1px solid gray;box-sizing: border-box;top: 0;bottom: 0;left: 50%;z-index: -1;}#sk-container-id-3 div.sk-parallel-item {display: flex;flex-direction: column;z-index: 1;position: relative;background-color: white;}#sk-container-id-3 div.sk-parallel-item:first-child::after {align-self: flex-end;width: 50%;}#sk-container-id-3 div.sk-parallel-item:last-child::after {align-self: flex-start;width: 50%;}#sk-container-id-3 div.sk-parallel-item:only-child::after {width: 0;}#sk-container-id-3 div.sk-dashed-wrapped {border: 1px dashed gray;margin: 0 0.4em 0.5em 0.4em;box-sizing: border-box;padding-bottom: 0.4em;background-color: white;}#sk-container-id-3 div.sk-label label {font-family: monospace;font-weight: bold;display: inline-block;line-height: 1.2em;}#sk-container-id-3 div.sk-label-container {text-align: center;}#sk-container-id-3 div.sk-container {/* jupyter's `normalize.less` sets `[hidden] { display: none; }` but bootstrap.min.css set `[hidden] { display: none !important; }` so we also need the `!important` here to be able to override the default hidden behavior on the sphinx rendered scikit-learn.org. See: https://github.com/scikit-learn/scikit-learn/issues/21755 */display: inline-block !important;position: relative;}#sk-container-id-3 div.sk-text-repr-fallback {display: none;}</style><div id=\"sk-container-id-3\" class=\"sk-top-container\"><div class=\"sk-text-repr-fallback\"><pre>SGDRegressor()</pre><b>In a Jupyter environment, please rerun this cell to show the HTML representation or trust the notebook. <br />On GitHub, the HTML representation is unable to render, please try loading this page with nbviewer.org.</b></div><div class=\"sk-container\" hidden><div class=\"sk-item\"><div class=\"sk-estimator sk-toggleable\"><input class=\"sk-toggleable__control sk-hidden--visually\" id=\"sk-estimator-id-3\" type=\"checkbox\" checked><label for=\"sk-estimator-id-3\" class=\"sk-toggleable__label sk-toggleable__label-arrow\">SGDRegressor</label><div class=\"sk-toggleable__content\"><pre>SGDRegressor()</pre></div></div></div></div></div>"
      ],
      "text/plain": [
       "SGDRegressor()"
      ]
     },
     "execution_count": 110,
     "metadata": {},
     "output_type": "execute_result"
    }
   ],
   "source": [
    "model = SGDRegressor()\n",
    "model.fit(vectors, df[\"rating\"])"
   ]
  },
  {
   "cell_type": "code",
   "execution_count": 132,
   "id": "6b3a3e14-9e15-48ca-9631-d9a33fd33add",
   "metadata": {},
   "outputs": [],
   "source": [
    "@f.udf(FloatType())\n",
    "def predict_rating(tag):\n",
    "    x = vectorizer.transform([tag])\n",
    "    return model.predict(x).item()"
   ]
  },
  {
   "cell_type": "code",
   "execution_count": 154,
   "id": "ae4da95d-ba85-4dd0-bc9b-12e422c1f52a",
   "metadata": {},
   "outputs": [
    {
     "name": "stderr",
     "output_type": "stream",
     "text": [
      "[Stage 205:>                                                        (0 + 1) / 1]\r"
     ]
    },
    {
     "name": "stdout",
     "output_type": "stream",
     "text": [
      "+--------------------+------+----------------+\n",
      "|                 tag|rating|predicted_rating|\n",
      "+--------------------+------+----------------+\n",
      "|        will ferrell|   5.0|        4.026239|\n",
      "|     Highly quotable|   5.0|       3.9530454|\n",
      "|               funny|   5.0|        4.370658|\n",
      "|           Tom Hardy|   5.0|       3.8381026|\n",
      "|                 MMA|   5.0|       3.4290197|\n",
      "|        Boxing story|   5.0|        3.925313|\n",
      "|     Martin Scorsese|   5.0|       3.8527648|\n",
      "|   Leonardo DiCaprio|   5.0|        4.237917|\n",
      "|               drugs|   5.0|        4.290987|\n",
      "|        way too long|   1.0|       3.4317873|\n",
      "|               mafia|   4.0|       4.1640844|\n",
      "|            gangster|   4.0|       3.6265683|\n",
      "|           Al Pacino|   4.0|          3.8612|\n",
      "|               Mafia|   5.0|       4.1640844|\n",
      "|           Al Pacino|   5.0|          3.8612|\n",
      "|          true story|   4.5|       3.8489664|\n",
      "|           holocaust|   4.5|       3.9758172|\n",
      "|        twist ending|   4.5|        4.837204|\n",
      "|        twist ending|   4.5|        4.837204|\n",
      "|     courtroom drama|   4.5|       3.8428187|\n",
      "|     Anthony Hopkins|   4.5|        3.383614|\n",
      "|               music|   3.0|        4.288692|\n",
      "|  indie record label|   3.0|        3.270911|\n",
      "|             britpop|   3.0|        3.270145|\n",
      "|      Sustainability|   4.0|        3.345697|\n",
      "|     dumpster diving|   4.0|       3.3460057|\n",
      "|              bloody|   0.5|        3.536466|\n",
      "|         time-travel|   4.5|        4.233821|\n",
      "|              sci-fi|   4.5|       4.2946343|\n",
      "|          black hole|   4.5|       3.8583694|\n",
      "|      Robin Williams|   4.0|       3.6983397|\n",
      "|    magic board game|   4.0|       3.7528925|\n",
      "|             fantasy|   4.0|       3.9356747|\n",
      "|         sword fight|   4.5|       3.3852355|\n",
      "|             revenge|   4.5|        4.176639|\n",
      "|Oscar (Best Cinem...|   4.5|       4.3385468|\n",
      "|          mel gibson|   4.5|       3.4199483|\n",
      "|            Medieval|   4.5|       3.3839211|\n",
      "|       inspirational|   4.5|       3.8061945|\n",
      "|          historical|   4.5|        3.384408|\n",
      "|                epic|   4.5|       3.9657934|\n",
      "|   beautiful scenery|   4.5|        4.000975|\n",
      "|              gothic|   4.5|       3.8570988|\n",
      "|              family|   4.5|       4.1127257|\n",
      "|         dark comedy|   4.5|       4.8959203|\n",
      "|   Christopher Lloyd|   4.5|       3.7515323|\n",
      "|     Christina Ricci|   4.5|       3.5638747|\n",
      "|        black comedy|   4.5|       4.6391296|\n",
      "|               mafia|   5.0|       4.1640844|\n",
      "|Francis Ford Coppola|   5.0|       3.5402167|\n",
      "+--------------------+------+----------------+\n",
      "only showing top 50 rows\n",
      "\n"
     ]
    },
    {
     "name": "stderr",
     "output_type": "stream",
     "text": [
      "                                                                                \r"
     ]
    }
   ],
   "source": [
    "data_df = data_df.withColumn(\"predicted_rating\", predict_rating(f.col(\"tag\")))\n",
    "data_df.show(50)"
   ]
  },
  {
   "cell_type": "code",
   "execution_count": 155,
   "id": "cc173772-64d9-4427-9d1c-d288731f1b7e",
   "metadata": {},
   "outputs": [
    {
     "name": "stderr",
     "output_type": "stream",
     "text": [
      "[Stage 211:>                                                        (0 + 1) / 1]\r"
     ]
    },
    {
     "name": "stdout",
     "output_type": "stream",
     "text": [
      "+------------------+\n",
      "|              RMSE|\n",
      "+------------------+\n",
      "|0.8734757249097925|\n",
      "+------------------+\n",
      "\n"
     ]
    },
    {
     "name": "stderr",
     "output_type": "stream",
     "text": [
      "                                                                                \r"
     ]
    }
   ],
   "source": [
    "(\n",
    "    data_df\n",
    "    .select((f.pow(f.col(\"rating\") - f.col(\"predicted_rating\"), 2).alias(\"diff_pow\")))\n",
    "    .select(f.sqrt(f.sum(\"diff_pow\") / data_df.count()).alias(\"RMSE\"))\n",
    "    .show()\n",
    ")"
   ]
  }
 ],
 "metadata": {
  "kernelspec": {
   "display_name": "Python 3 (ipykernel)",
   "language": "python",
   "name": "python3"
  },
  "language_info": {
   "codemirror_mode": {
    "name": "ipython",
    "version": 3
   },
   "file_extension": ".py",
   "mimetype": "text/x-python",
   "name": "python",
   "nbconvert_exporter": "python",
   "pygments_lexer": "ipython3",
   "version": "3.10.12"
  }
 },
 "nbformat": 4,
 "nbformat_minor": 5
}
